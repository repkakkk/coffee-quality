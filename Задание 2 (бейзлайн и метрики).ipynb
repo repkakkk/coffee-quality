{
 "cells": [
  {
   "cell_type": "markdown",
   "metadata": {},
   "source": [
    "## Imports"
   ]
  },
  {
   "cell_type": "code",
   "execution_count": 18,
   "metadata": {},
   "outputs": [],
   "source": [
    "import warnings\n",
    "warnings.filterwarnings('ignore')\n",
    "\n",
    "import numpy as np\n",
    "import pandas as pd\n",
    "\n",
    "import seaborn as sns\n",
    "from matplotlib import pyplot as plt\n",
    "from matplotlib.cbook import boxplot_stats\n",
    "\n",
    "import sklearn\n",
    "from sklearn.preprocessing import StandardScaler, LabelEncoder\n",
    "from sklearn.decomposition import PCA\n",
    "\n",
    "from sklearn.model_selection import train_test_split \n",
    "from sklearn.linear_model import LinearRegression\n",
    "from sklearn.dummy import DummyRegressor\n",
    "from sklearn.linear_model import LogisticRegression\n",
    "\n",
    "from sklearn.metrics import mean_squared_error\n",
    "from sklearn.metrics import mean_absolute_error\n",
    "from sklearn.metrics import r2_score\n",
    "\n",
    "from sklearn.model_selection import cross_val_score, KFold, StratifiedKFold\n",
    "from sklearn.preprocessing import StandardScaler\n",
    "\n",
    "%matplotlib inline"
   ]
  },
  {
   "attachments": {},
   "cell_type": "markdown",
   "metadata": {},
   "source": [
    "## Подготовка данных\n",
    "1. Загрузка датасета, подготовленного по результатам предыдущего анализа\n",
    "2. Разбивка датасета на тренировочную и тестовую выборки"
   ]
  },
  {
   "cell_type": "code",
   "execution_count": 3,
   "metadata": {},
   "outputs": [],
   "source": [
    "path = '../arabica_data_after_eda.csv'\n",
    "df = pd.read_csv(path, index_col='Unnamed: 0')"
   ]
  },
  {
   "cell_type": "code",
   "execution_count": 4,
   "metadata": {},
   "outputs": [],
   "source": [
    "X, y = df.drop(columns=['Total.Cup.Points']), df['Total.Cup.Points']"
   ]
  },
  {
   "cell_type": "code",
   "execution_count": 5,
   "metadata": {},
   "outputs": [
    {
     "data": {
      "text/html": [
       "<div>\n",
       "<style scoped>\n",
       "    .dataframe tbody tr th:only-of-type {\n",
       "        vertical-align: middle;\n",
       "    }\n",
       "\n",
       "    .dataframe tbody tr th {\n",
       "        vertical-align: top;\n",
       "    }\n",
       "\n",
       "    .dataframe thead th {\n",
       "        text-align: right;\n",
       "    }\n",
       "</style>\n",
       "<table border=\"1\" class=\"dataframe\">\n",
       "  <thead>\n",
       "    <tr style=\"text-align: right;\">\n",
       "      <th></th>\n",
       "      <th>Owner</th>\n",
       "      <th>Country.of.Origin</th>\n",
       "      <th>Company</th>\n",
       "      <th>Region</th>\n",
       "      <th>Producer</th>\n",
       "      <th>In.Country.Partner</th>\n",
       "      <th>Harvest.Year</th>\n",
       "      <th>Aroma</th>\n",
       "      <th>Flavor</th>\n",
       "      <th>Aftertaste</th>\n",
       "      <th>Acidity</th>\n",
       "      <th>Moisture</th>\n",
       "      <th>Category.One.Defects</th>\n",
       "      <th>Quakers</th>\n",
       "      <th>Color</th>\n",
       "      <th>Category.Two.Defects</th>\n",
       "      <th>altitude_mean_meters</th>\n",
       "    </tr>\n",
       "  </thead>\n",
       "  <tbody>\n",
       "    <tr>\n",
       "      <th>643</th>\n",
       "      <td>111</td>\n",
       "      <td>27</td>\n",
       "      <td>126</td>\n",
       "      <td>65</td>\n",
       "      <td>380</td>\n",
       "      <td>23</td>\n",
       "      <td>3</td>\n",
       "      <td>7.83</td>\n",
       "      <td>7.50</td>\n",
       "      <td>7.42</td>\n",
       "      <td>7.58</td>\n",
       "      <td>0.12</td>\n",
       "      <td>0</td>\n",
       "      <td>0.0</td>\n",
       "      <td>2</td>\n",
       "      <td>0</td>\n",
       "      <td>1650.0</td>\n",
       "    </tr>\n",
       "    <tr>\n",
       "      <th>157</th>\n",
       "      <td>141</td>\n",
       "      <td>0</td>\n",
       "      <td>146</td>\n",
       "      <td>205</td>\n",
       "      <td>167</td>\n",
       "      <td>14</td>\n",
       "      <td>0</td>\n",
       "      <td>8.00</td>\n",
       "      <td>8.00</td>\n",
       "      <td>7.75</td>\n",
       "      <td>7.75</td>\n",
       "      <td>0.12</td>\n",
       "      <td>0</td>\n",
       "      <td>0.0</td>\n",
       "      <td>2</td>\n",
       "      <td>2</td>\n",
       "      <td>1300.0</td>\n",
       "    </tr>\n",
       "    <tr>\n",
       "      <th>635</th>\n",
       "      <td>118</td>\n",
       "      <td>24</td>\n",
       "      <td>185</td>\n",
       "      <td>236</td>\n",
       "      <td>449</td>\n",
       "      <td>17</td>\n",
       "      <td>9</td>\n",
       "      <td>7.67</td>\n",
       "      <td>7.42</td>\n",
       "      <td>7.50</td>\n",
       "      <td>7.42</td>\n",
       "      <td>0.11</td>\n",
       "      <td>0</td>\n",
       "      <td>5.0</td>\n",
       "      <td>2</td>\n",
       "      <td>0</td>\n",
       "      <td>1050.0</td>\n",
       "    </tr>\n",
       "    <tr>\n",
       "      <th>1016</th>\n",
       "      <td>121</td>\n",
       "      <td>12</td>\n",
       "      <td>27</td>\n",
       "      <td>98</td>\n",
       "      <td>437</td>\n",
       "      <td>12</td>\n",
       "      <td>11</td>\n",
       "      <td>7.17</td>\n",
       "      <td>7.58</td>\n",
       "      <td>7.50</td>\n",
       "      <td>7.50</td>\n",
       "      <td>0.11</td>\n",
       "      <td>0</td>\n",
       "      <td>0.0</td>\n",
       "      <td>2</td>\n",
       "      <td>3</td>\n",
       "      <td>1600.0</td>\n",
       "    </tr>\n",
       "    <tr>\n",
       "      <th>284</th>\n",
       "      <td>58</td>\n",
       "      <td>4</td>\n",
       "      <td>72</td>\n",
       "      <td>31</td>\n",
       "      <td>398</td>\n",
       "      <td>18</td>\n",
       "      <td>3</td>\n",
       "      <td>7.83</td>\n",
       "      <td>7.42</td>\n",
       "      <td>7.50</td>\n",
       "      <td>7.83</td>\n",
       "      <td>0.10</td>\n",
       "      <td>0</td>\n",
       "      <td>0.0</td>\n",
       "      <td>2</td>\n",
       "      <td>3</td>\n",
       "      <td>1300.0</td>\n",
       "    </tr>\n",
       "  </tbody>\n",
       "</table>\n",
       "</div>"
      ],
      "text/plain": [
       "      Owner  Country.of.Origin  Company  Region  Producer  In.Country.Partner  \\\n",
       "643     111                 27      126      65       380                  23   \n",
       "157     141                  0      146     205       167                  14   \n",
       "635     118                 24      185     236       449                  17   \n",
       "1016    121                 12       27      98       437                  12   \n",
       "284      58                  4       72      31       398                  18   \n",
       "\n",
       "      Harvest.Year  Aroma  Flavor  Aftertaste  Acidity  Moisture  \\\n",
       "643              3   7.83    7.50        7.42     7.58      0.12   \n",
       "157              0   8.00    8.00        7.75     7.75      0.12   \n",
       "635              9   7.67    7.42        7.50     7.42      0.11   \n",
       "1016            11   7.17    7.58        7.50     7.50      0.11   \n",
       "284              3   7.83    7.42        7.50     7.83      0.10   \n",
       "\n",
       "      Category.One.Defects  Quakers  Color  Category.Two.Defects  \\\n",
       "643                      0      0.0      2                     0   \n",
       "157                      0      0.0      2                     2   \n",
       "635                      0      5.0      2                     0   \n",
       "1016                     0      0.0      2                     3   \n",
       "284                      0      0.0      2                     3   \n",
       "\n",
       "      altitude_mean_meters  \n",
       "643                 1650.0  \n",
       "157                 1300.0  \n",
       "635                 1050.0  \n",
       "1016                1600.0  \n",
       "284                 1300.0  "
      ]
     },
     "execution_count": 5,
     "metadata": {},
     "output_type": "execute_result"
    }
   ],
   "source": [
    "X_train, X_test, y_train, y_test = train_test_split(X, y, random_state=42, test_size=0.25)\n",
    "X_train.head()"
   ]
  },
  {
   "attachments": {},
   "cell_type": "markdown",
   "metadata": {},
   "source": [
    "## Построение бейзлайна\n",
    "Выбрано построение бейзлайна по медианному значению"
   ]
  },
  {
   "cell_type": "code",
   "execution_count": 6,
   "metadata": {},
   "outputs": [],
   "source": [
    "dummy = DummyRegressor(strategy='median')\n",
    "dummy.fit(X_train, y_train)\n",
    "y_preds_dummy = dummy.predict(X_test)"
   ]
  },
  {
   "attachments": {},
   "cell_type": "markdown",
   "metadata": {},
   "source": [
    "## Обучение простой модели для сравнения с бейзлайном (как было на лекции)"
   ]
  },
  {
   "cell_type": "code",
   "execution_count": 7,
   "metadata": {},
   "outputs": [],
   "source": [
    "lr = LinearRegression()\n",
    "lr.fit(X_train, y_train)\n",
    "y_preds_lr = lr.predict(X_test)"
   ]
  },
  {
   "attachments": {},
   "cell_type": "markdown",
   "metadata": {},
   "source": [
    "## Использование разных метрик для оценки двух моделей\n",
    "Поскольку перед нами стоит задача регрессии, можно использовать такие метрики: MSE, RMSE, MAE, MAPE и коэффициент детерминации"
   ]
  },
  {
   "cell_type": "code",
   "execution_count": 8,
   "metadata": {},
   "outputs": [
    {
     "name": "stdout",
     "output_type": "stream",
     "text": [
      "MSE for Dummy Regressor: 5.8913802083333335\n",
      "MSE for Linear regression: 1.0229280096919133\n"
     ]
    }
   ],
   "source": [
    "print(f'MSE for Dummy Regressor: {mean_squared_error(y_test, y_preds_dummy)}')\n",
    "print(f'MSE for Linear regression: {mean_squared_error(y_test, y_preds_lr)}')"
   ]
  },
  {
   "cell_type": "code",
   "execution_count": 9,
   "metadata": {},
   "outputs": [
    {
     "name": "stdout",
     "output_type": "stream",
     "text": [
      "RMSE for Dummy Regressor: 2.427216555714247\n",
      "RMSE for Linear regression: 1.0113990358369507\n"
     ]
    }
   ],
   "source": [
    "print(f'RMSE for Dummy Regressor: {mean_squared_error(y_test, y_preds_dummy, squared=False)}')\n",
    "print(f'RMSE for Linear regression: {mean_squared_error(y_test, y_preds_lr, squared=False)}')"
   ]
  },
  {
   "cell_type": "code",
   "execution_count": 10,
   "metadata": {},
   "outputs": [],
   "source": [
    "def plot_model_results(actual, predicted, title):\n",
    "  results = pd.DataFrame({'True': actual, 'Prediction': predicted})\n",
    "  sns.lmplot(x='True', y='Prediction', data=results, fit_reg=False)\n",
    "  d_line= np.arange(results.min().min(), results.max().max())\n",
    "  plt.plot(d_line, d_line, color='red', linestyle='--')\n",
    "  plt.title = title\n",
    "  plt.grid()\n",
    "  plt.show()"
   ]
  },
  {
   "cell_type": "code",
   "execution_count": 11,
   "metadata": {},
   "outputs": [
    {
     "data": {
      "image/png": "[encoded data removed]",
      "text/plain": [
       "<Figure size 360x360 with 1 Axes>"
      ]
     },
     "metadata": {
      "needs_background": "light"
     },
     "output_type": "display_data"
    }
   ],
   "source": [
    "plot_model_results(y_test, y_preds_dummy, title='Dummy')"
   ]
  },
  {
   "cell_type": "code",
   "execution_count": 12,
   "metadata": {},
   "outputs": [
    {
     "data": {
      "image/png": "[encoded data removed]",
      "text/plain": [
       "<Figure size 360x360 with 1 Axes>"
      ]
     },
     "metadata": {
      "needs_background": "light"
     },
     "output_type": "display_data"
    }
   ],
   "source": [
    "plot_model_results(y_test, y_preds_lr, title='Linear Regression')"
   ]
  },
  {
   "cell_type": "code",
   "execution_count": 13,
   "metadata": {},
   "outputs": [
    {
     "name": "stdout",
     "output_type": "stream",
     "text": [
      "MAE for Dummy Regressor: 1.6309375000000006\n",
      "MAE for Linear regression: 0.6351603867718989\n"
     ]
    }
   ],
   "source": [
    "print(f'MAE for Dummy Regressor: {mean_absolute_error(y_test, y_preds_dummy)}')\n",
    "print(f'MAE for Linear regression: {mean_absolute_error(y_test, y_preds_lr)}')"
   ]
  },
  {
   "cell_type": "code",
   "execution_count": 14,
   "metadata": {},
   "outputs": [
    {
     "name": "stdout",
     "output_type": "stream",
     "text": [
      "R2 score for Dummy Regressor: -0.0007573302800532034\n",
      "R2 score for Linear regression: 0.8262372028544441\n"
     ]
    }
   ],
   "source": [
    "print(f'R2 score for Dummy Regressor: {r2_score(y_test, y_preds_dummy)}')\n",
    "print(f'R2 score for Linear regression: {r2_score(y_test, y_preds_lr)}')"
   ]
  },
  {
   "attachments": {},
   "cell_type": "markdown",
   "metadata": {},
   "source": [
    "## Выбор метрики\n",
    "\n",
    "Выбранная метрика - MAE. Метрика выбрана методом исключения:\n",
    "- данные содержат выбросы, поэтому штрафовать за ошибку квадратично не хочется (поэтому не используются MSE, RMSE);\n",
    "- у датасета много столбцов, часть которых возможно придется потом отбросить. Метрика R2 зависит от количества параметров, поэтому с ней возиться не хочется;\n",
    "- хочется видеть ошибку в единицах измерения целевого параметра, поэтому между оставшимися MAE и MAPE  выбрана MAE."
   ]
  },
  {
   "attachments": {},
   "cell_type": "markdown",
   "metadata": {},
   "source": [
    "## Кросс-валидация\n",
    "Для стратификации использовано округленное значение целевого параметра, так как без округления оказывается много значений в единственном экземпляре. Поскольку данных относительно много, используется метод k-fold без вариации leave-one-out."
   ]
  },
  {
   "cell_type": "code",
   "execution_count": 15,
   "metadata": {},
   "outputs": [],
   "source": [
    "X_train, X_test, y_train, y_test = train_test_split(X, y, random_state=42, test_size=0.25, stratify=round(y, -1))"
   ]
  },
  {
   "cell_type": "code",
   "execution_count": 25,
   "metadata": {},
   "outputs": [
    {
     "name": "stdout",
     "output_type": "stream",
     "text": [
      "Cross validation for linear regression:  [0.78090434 0.64153039 0.7032361  0.65184681]\n",
      "Cross validation for dummy regression:  [1.66645833 1.47694444 1.86326389 1.77552448]\n"
     ]
    }
   ],
   "source": [
    "scaler = StandardScaler()\n",
    "X_train_scaled = scaler.fit_transform(X_train)\n",
    "\n",
    "lr = LinearRegression()\n",
    "print('Cross validation for linear regression: ', - cross_val_score(lr, X_train_scaled, y_train, cv=4, scoring='neg_mean_absolute_error'))\n",
    "\n",
    "dummy = DummyRegressor(strategy='median')\n",
    "\n",
    "print('Cross validation for dummy regression: ', - cross_val_score(dummy, X_train_scaled, y_train, cv=4, scoring='neg_mean_absolute_error'))"
   ]
  },
  {
   "cell_type": "code",
   "execution_count": null,
   "metadata": {},
   "outputs": [],
   "source": []
  }
 ],
 "metadata": {
  "kernelspec": {
   "display_name": "Python 3",
   "language": "python",
   "name": "python3"
  },
  "language_info": {
   "codemirror_mode": {
    "name": "ipython",
    "version": 3
   },
   "file_extension": ".py",
   "mimetype": "text/x-python",
   "name": "python",
   "nbconvert_exporter": "python",
   "pygments_lexer": "ipython3",
   "version": "3.10.6 (main, Nov 14 2022, 16:10:14) [GCC 11.3.0]"
  },
  "orig_nbformat": 4,
  "vscode": {
   "interpreter": {
    "hash": "916dbcbb3f70747c44a77c7bcd40155683ae19c65e1c03b4aa3499c5328201f1"
   }
  }
 },
 "nbformat": 4,
 "nbformat_minor": 2
}
