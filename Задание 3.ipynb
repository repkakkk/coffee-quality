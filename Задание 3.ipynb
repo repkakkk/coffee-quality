{
 "cells": [
  {
   "attachments": {},
   "cell_type": "markdown",
   "metadata": {},
   "source": [
    "## Импорты"
   ]
  },
  {
   "cell_type": "code",
   "execution_count": 1,
   "metadata": {},
   "outputs": [],
   "source": [
    "import pandas as pd\n",
    "import numpy as np\n",
    "\n",
    "from sklearn.linear_model import LinearRegression, Ridge, Lasso\n",
    "\n",
    "from sklearn.metrics import mean_absolute_error\n",
    "from sklearn.model_selection import train_test_split, cross_val_score\n",
    "from sklearn.preprocessing import LabelEncoder, OneHotEncoder, StandardScaler\n",
    "\n",
    "from sklearn.inspection import DecisionBoundaryDisplay\n",
    "\n",
    "from sklearn.pipeline import Pipeline\n",
    "from sklearn.model_selection import GridSearchCV\n",
    "\n",
    "import matplotlib.pyplot as plt\n",
    "from matplotlib.colors import ListedColormap\n",
    "import seaborn as sns\n",
    "\n",
    "import warnings\n",
    "warnings.simplefilter('ignore')"
   ]
  },
  {
   "attachments": {},
   "cell_type": "markdown",
   "metadata": {},
   "source": [
    "## Загрузка датасета"
   ]
  },
  {
   "cell_type": "code",
   "execution_count": 2,
   "metadata": {},
   "outputs": [],
   "source": [
    "path = '../arabica_data_cleaned.csv'\n",
    "df = pd.read_csv(path, index_col='Unnamed: 0')"
   ]
  },
  {
   "attachments": {},
   "cell_type": "markdown",
   "metadata": {},
   "source": [
    "## Удаление \"лишних\" данных\n",
    "В соответствии с результатами исследования данных на предыдущем этапе удаляем неполные строки, а также нерелевантные столбцы и данные с выбросами. "
   ]
  },
  {
   "cell_type": "code",
   "execution_count": 3,
   "metadata": {},
   "outputs": [],
   "source": [
    "df = df.drop(columns = ['Species', 'Farm.Name', 'Lot.Number',\n",
    "       'Mill', 'ICO.Number', 'Expiration', 'Certification.Body',\n",
    "       'Certification.Address', 'Certification.Contact', \n",
    "       'unit_of_measurement',  'Grading.Date','Variety', 'Processing.Method',\n",
    "       'Altitude', 'Bag.Weight', 'Number.of.Bags',\n",
    "       'altitude_low_meters', 'altitude_high_meters', 'Body', 'Balance', 'Uniformity',\n",
    "       'Clean.Cup', 'Sweetness', 'Cupper.Points', 'Owner.1'])\n",
    "df = df.dropna()\n",
    "df.drop(df.loc[df['Total.Cup.Points'] == 0].index, inplace = True )\n",
    "df.drop(df.loc[df['altitude_mean_meters'] > 10000].index, inplace = True )\n"
   ]
  },
  {
   "attachments": {},
   "cell_type": "markdown",
   "metadata": {},
   "source": [
    "## Категориальные столбцы\n",
    "Есть 7 категориальных столбцов. Из них ординальный только один (Harvest.Year). Еще есть признак, у которого достаточно мало значений (Color), чтобы можно было использовать one-hot encoding. С остальными признаками так просто не получится работать, поэтому решено их отбросить."
   ]
  },
  {
   "cell_type": "code",
   "execution_count": 4,
   "metadata": {},
   "outputs": [
    {
     "data": {
      "text/plain": [
       "Owner                 192\n",
       "Country.of.Origin      31\n",
       "Company               217\n",
       "Region                239\n",
       "Producer              458\n",
       "In.Country.Partner     25\n",
       "Harvest.Year           14\n",
       "Color                   4\n",
       "dtype: int64"
      ]
     },
     "execution_count": 4,
     "metadata": {},
     "output_type": "execute_result"
    }
   ],
   "source": [
    "df.select_dtypes(include='object').nunique()"
   ]
  },
  {
   "cell_type": "code",
   "execution_count": 5,
   "metadata": {},
   "outputs": [],
   "source": [
    "df = df.drop(columns = ['Owner', 'Country.of.Origin', 'Company',\n",
    "       'Region', 'Producer', 'In.Country.Partner'])"
   ]
  },
  {
   "cell_type": "code",
   "execution_count": 6,
   "metadata": {},
   "outputs": [],
   "source": [
    "le = LabelEncoder()\n",
    "df['Harvest.Year'] = le.fit_transform(df['Harvest.Year'])"
   ]
  },
  {
   "cell_type": "code",
   "execution_count": 7,
   "metadata": {},
   "outputs": [
    {
     "data": {
      "text/html": [
       "<div>\n",
       "<style scoped>\n",
       "    .dataframe tbody tr th:only-of-type {\n",
       "        vertical-align: middle;\n",
       "    }\n",
       "\n",
       "    .dataframe tbody tr th {\n",
       "        vertical-align: top;\n",
       "    }\n",
       "\n",
       "    .dataframe thead th {\n",
       "        text-align: right;\n",
       "    }\n",
       "</style>\n",
       "<table border=\"1\" class=\"dataframe\">\n",
       "  <thead>\n",
       "    <tr style=\"text-align: right;\">\n",
       "      <th></th>\n",
       "      <th>x0_Blue-Green</th>\n",
       "      <th>x0_Bluish-Green</th>\n",
       "      <th>x0_Green</th>\n",
       "      <th>x0_None</th>\n",
       "    </tr>\n",
       "  </thead>\n",
       "  <tbody>\n",
       "    <tr>\n",
       "      <th>0</th>\n",
       "      <td>0.0</td>\n",
       "      <td>0.0</td>\n",
       "      <td>1.0</td>\n",
       "      <td>0.0</td>\n",
       "    </tr>\n",
       "    <tr>\n",
       "      <th>1</th>\n",
       "      <td>0.0</td>\n",
       "      <td>0.0</td>\n",
       "      <td>1.0</td>\n",
       "      <td>0.0</td>\n",
       "    </tr>\n",
       "    <tr>\n",
       "      <th>2</th>\n",
       "      <td>0.0</td>\n",
       "      <td>0.0</td>\n",
       "      <td>1.0</td>\n",
       "      <td>0.0</td>\n",
       "    </tr>\n",
       "    <tr>\n",
       "      <th>3</th>\n",
       "      <td>0.0</td>\n",
       "      <td>0.0</td>\n",
       "      <td>1.0</td>\n",
       "      <td>0.0</td>\n",
       "    </tr>\n",
       "    <tr>\n",
       "      <th>4</th>\n",
       "      <td>0.0</td>\n",
       "      <td>0.0</td>\n",
       "      <td>1.0</td>\n",
       "      <td>0.0</td>\n",
       "    </tr>\n",
       "  </tbody>\n",
       "</table>\n",
       "</div>"
      ],
      "text/plain": [
       "   x0_Blue-Green  x0_Bluish-Green  x0_Green  x0_None\n",
       "0            0.0              0.0       1.0      0.0\n",
       "1            0.0              0.0       1.0      0.0\n",
       "2            0.0              0.0       1.0      0.0\n",
       "3            0.0              0.0       1.0      0.0\n",
       "4            0.0              0.0       1.0      0.0"
      ]
     },
     "execution_count": 7,
     "metadata": {},
     "output_type": "execute_result"
    }
   ],
   "source": [
    "ohe = OneHotEncoder()\n",
    "res = ohe.fit_transform(df['Color'].to_numpy().reshape(-1, 1))\n",
    "ohe_df = pd.DataFrame(res.toarray(), columns=ohe.get_feature_names_out())\n",
    "ohe_df.head()"
   ]
  },
  {
   "attachments": {},
   "cell_type": "markdown",
   "metadata": {},
   "source": [
    "Получившиеся признаки линейно-зависимы, так что можно один столбец отбросить."
   ]
  },
  {
   "cell_type": "code",
   "execution_count": 8,
   "metadata": {},
   "outputs": [],
   "source": [
    "df = df.drop(columns=['Color'])\n",
    "df = df.join(ohe_df.drop(columns=['x0_None']))"
   ]
  },
  {
   "cell_type": "code",
   "execution_count": 9,
   "metadata": {},
   "outputs": [
    {
     "data": {
      "text/html": [
       "<div>\n",
       "<style scoped>\n",
       "    .dataframe tbody tr th:only-of-type {\n",
       "        vertical-align: middle;\n",
       "    }\n",
       "\n",
       "    .dataframe tbody tr th {\n",
       "        vertical-align: top;\n",
       "    }\n",
       "\n",
       "    .dataframe thead th {\n",
       "        text-align: right;\n",
       "    }\n",
       "</style>\n",
       "<table border=\"1\" class=\"dataframe\">\n",
       "  <thead>\n",
       "    <tr style=\"text-align: right;\">\n",
       "      <th></th>\n",
       "      <th>Harvest.Year</th>\n",
       "      <th>Aroma</th>\n",
       "      <th>Flavor</th>\n",
       "      <th>Aftertaste</th>\n",
       "      <th>Acidity</th>\n",
       "      <th>Total.Cup.Points</th>\n",
       "      <th>Moisture</th>\n",
       "      <th>Category.One.Defects</th>\n",
       "      <th>Quakers</th>\n",
       "      <th>Category.Two.Defects</th>\n",
       "      <th>altitude_mean_meters</th>\n",
       "      <th>x0_Blue-Green</th>\n",
       "      <th>x0_Bluish-Green</th>\n",
       "      <th>x0_Green</th>\n",
       "    </tr>\n",
       "  </thead>\n",
       "  <tbody>\n",
       "    <tr>\n",
       "      <th>1</th>\n",
       "      <td>5</td>\n",
       "      <td>8.67</td>\n",
       "      <td>8.83</td>\n",
       "      <td>8.67</td>\n",
       "      <td>8.75</td>\n",
       "      <td>90.58</td>\n",
       "      <td>0.12</td>\n",
       "      <td>0</td>\n",
       "      <td>0.0</td>\n",
       "      <td>0</td>\n",
       "      <td>2075.0</td>\n",
       "      <td>0.0</td>\n",
       "      <td>0.0</td>\n",
       "      <td>1.0</td>\n",
       "    </tr>\n",
       "    <tr>\n",
       "      <th>2</th>\n",
       "      <td>5</td>\n",
       "      <td>8.75</td>\n",
       "      <td>8.67</td>\n",
       "      <td>8.50</td>\n",
       "      <td>8.58</td>\n",
       "      <td>89.92</td>\n",
       "      <td>0.12</td>\n",
       "      <td>0</td>\n",
       "      <td>0.0</td>\n",
       "      <td>1</td>\n",
       "      <td>2075.0</td>\n",
       "      <td>0.0</td>\n",
       "      <td>0.0</td>\n",
       "      <td>1.0</td>\n",
       "    </tr>\n",
       "    <tr>\n",
       "      <th>4</th>\n",
       "      <td>5</td>\n",
       "      <td>8.17</td>\n",
       "      <td>8.58</td>\n",
       "      <td>8.42</td>\n",
       "      <td>8.42</td>\n",
       "      <td>89.00</td>\n",
       "      <td>0.11</td>\n",
       "      <td>0</td>\n",
       "      <td>0.0</td>\n",
       "      <td>2</td>\n",
       "      <td>2000.0</td>\n",
       "      <td>0.0</td>\n",
       "      <td>0.0</td>\n",
       "      <td>1.0</td>\n",
       "    </tr>\n",
       "    <tr>\n",
       "      <th>5</th>\n",
       "      <td>5</td>\n",
       "      <td>8.25</td>\n",
       "      <td>8.50</td>\n",
       "      <td>8.25</td>\n",
       "      <td>8.50</td>\n",
       "      <td>88.83</td>\n",
       "      <td>0.12</td>\n",
       "      <td>0</td>\n",
       "      <td>0.0</td>\n",
       "      <td>2</td>\n",
       "      <td>2075.0</td>\n",
       "      <td>0.0</td>\n",
       "      <td>0.0</td>\n",
       "      <td>1.0</td>\n",
       "    </tr>\n",
       "    <tr>\n",
       "      <th>10</th>\n",
       "      <td>5</td>\n",
       "      <td>8.08</td>\n",
       "      <td>8.58</td>\n",
       "      <td>8.50</td>\n",
       "      <td>8.50</td>\n",
       "      <td>88.25</td>\n",
       "      <td>0.10</td>\n",
       "      <td>0</td>\n",
       "      <td>0.0</td>\n",
       "      <td>4</td>\n",
       "      <td>1822.5</td>\n",
       "      <td>0.0</td>\n",
       "      <td>0.0</td>\n",
       "      <td>1.0</td>\n",
       "    </tr>\n",
       "  </tbody>\n",
       "</table>\n",
       "</div>"
      ],
      "text/plain": [
       "    Harvest.Year  Aroma  Flavor  Aftertaste  Acidity  Total.Cup.Points  \\\n",
       "1              5   8.67    8.83        8.67     8.75             90.58   \n",
       "2              5   8.75    8.67        8.50     8.58             89.92   \n",
       "4              5   8.17    8.58        8.42     8.42             89.00   \n",
       "5              5   8.25    8.50        8.25     8.50             88.83   \n",
       "10             5   8.08    8.58        8.50     8.50             88.25   \n",
       "\n",
       "    Moisture  Category.One.Defects  Quakers  Category.Two.Defects  \\\n",
       "1       0.12                     0      0.0                     0   \n",
       "2       0.12                     0      0.0                     1   \n",
       "4       0.11                     0      0.0                     2   \n",
       "5       0.12                     0      0.0                     2   \n",
       "10      0.10                     0      0.0                     4   \n",
       "\n",
       "    altitude_mean_meters  x0_Blue-Green  x0_Bluish-Green  x0_Green  \n",
       "1                 2075.0            0.0              0.0       1.0  \n",
       "2                 2075.0            0.0              0.0       1.0  \n",
       "4                 2000.0            0.0              0.0       1.0  \n",
       "5                 2075.0            0.0              0.0       1.0  \n",
       "10                1822.5            0.0              0.0       1.0  "
      ]
     },
     "execution_count": 9,
     "metadata": {},
     "output_type": "execute_result"
    }
   ],
   "source": [
    "df.head()"
   ]
  },
  {
   "attachments": {},
   "cell_type": "markdown",
   "metadata": {},
   "source": [
    "## Мультиколлинеарность\n",
    "Решено отбросить признаки с коэффициентами больше 0.8"
   ]
  },
  {
   "cell_type": "code",
   "execution_count": 10,
   "metadata": {},
   "outputs": [
    {
     "data": {
      "text/html": [
       "<div>\n",
       "<style scoped>\n",
       "    .dataframe tbody tr th:only-of-type {\n",
       "        vertical-align: middle;\n",
       "    }\n",
       "\n",
       "    .dataframe tbody tr th {\n",
       "        vertical-align: top;\n",
       "    }\n",
       "\n",
       "    .dataframe thead th {\n",
       "        text-align: right;\n",
       "    }\n",
       "</style>\n",
       "<table border=\"1\" class=\"dataframe\">\n",
       "  <thead>\n",
       "    <tr style=\"text-align: right;\">\n",
       "      <th></th>\n",
       "      <th>Harvest.Year</th>\n",
       "      <th>Aroma</th>\n",
       "      <th>Flavor</th>\n",
       "      <th>Aftertaste</th>\n",
       "      <th>Acidity</th>\n",
       "      <th>Total.Cup.Points</th>\n",
       "      <th>Moisture</th>\n",
       "      <th>Category.One.Defects</th>\n",
       "      <th>Quakers</th>\n",
       "      <th>Category.Two.Defects</th>\n",
       "      <th>altitude_mean_meters</th>\n",
       "      <th>x0_Blue-Green</th>\n",
       "      <th>x0_Bluish-Green</th>\n",
       "      <th>x0_Green</th>\n",
       "    </tr>\n",
       "  </thead>\n",
       "  <tbody>\n",
       "    <tr>\n",
       "      <th>Harvest.Year</th>\n",
       "      <td>NaN</td>\n",
       "      <td>0.005501</td>\n",
       "      <td>0.085442</td>\n",
       "      <td>0.073448</td>\n",
       "      <td>0.064124</td>\n",
       "      <td>0.110401</td>\n",
       "      <td>-0.193119</td>\n",
       "      <td>-0.074027</td>\n",
       "      <td>0.278723</td>\n",
       "      <td>-0.139578</td>\n",
       "      <td>-0.049665</td>\n",
       "      <td>-0.037274</td>\n",
       "      <td>-0.055615</td>\n",
       "      <td>0.098244</td>\n",
       "    </tr>\n",
       "    <tr>\n",
       "      <th>Aroma</th>\n",
       "      <td>NaN</td>\n",
       "      <td>NaN</td>\n",
       "      <td>0.760935</td>\n",
       "      <td>0.700759</td>\n",
       "      <td>0.646419</td>\n",
       "      <td>0.696964</td>\n",
       "      <td>-0.035403</td>\n",
       "      <td>-0.139363</td>\n",
       "      <td>0.004310</td>\n",
       "      <td>-0.218433</td>\n",
       "      <td>0.200598</td>\n",
       "      <td>0.058348</td>\n",
       "      <td>0.043505</td>\n",
       "      <td>-0.047671</td>\n",
       "    </tr>\n",
       "    <tr>\n",
       "      <th>Flavor</th>\n",
       "      <td>NaN</td>\n",
       "      <td>NaN</td>\n",
       "      <td>NaN</td>\n",
       "      <td>0.839464</td>\n",
       "      <td>0.766443</td>\n",
       "      <td>0.826538</td>\n",
       "      <td>-0.091608</td>\n",
       "      <td>-0.076324</td>\n",
       "      <td>0.019537</td>\n",
       "      <td>-0.234674</td>\n",
       "      <td>0.155486</td>\n",
       "      <td>0.059212</td>\n",
       "      <td>0.068041</td>\n",
       "      <td>-0.055918</td>\n",
       "    </tr>\n",
       "    <tr>\n",
       "      <th>Aftertaste</th>\n",
       "      <td>NaN</td>\n",
       "      <td>NaN</td>\n",
       "      <td>NaN</td>\n",
       "      <td>NaN</td>\n",
       "      <td>0.702052</td>\n",
       "      <td>0.830220</td>\n",
       "      <td>-0.148714</td>\n",
       "      <td>-0.113282</td>\n",
       "      <td>0.020347</td>\n",
       "      <td>-0.258652</td>\n",
       "      <td>0.135939</td>\n",
       "      <td>0.095026</td>\n",
       "      <td>0.049234</td>\n",
       "      <td>-0.075982</td>\n",
       "    </tr>\n",
       "    <tr>\n",
       "      <th>Acidity</th>\n",
       "      <td>NaN</td>\n",
       "      <td>NaN</td>\n",
       "      <td>NaN</td>\n",
       "      <td>NaN</td>\n",
       "      <td>NaN</td>\n",
       "      <td>0.720687</td>\n",
       "      <td>-0.084699</td>\n",
       "      <td>-0.081813</td>\n",
       "      <td>0.034899</td>\n",
       "      <td>-0.169379</td>\n",
       "      <td>0.242793</td>\n",
       "      <td>0.077716</td>\n",
       "      <td>0.041896</td>\n",
       "      <td>-0.060800</td>\n",
       "    </tr>\n",
       "    <tr>\n",
       "      <th>Total.Cup.Points</th>\n",
       "      <td>NaN</td>\n",
       "      <td>NaN</td>\n",
       "      <td>NaN</td>\n",
       "      <td>NaN</td>\n",
       "      <td>NaN</td>\n",
       "      <td>NaN</td>\n",
       "      <td>-0.115950</td>\n",
       "      <td>-0.156604</td>\n",
       "      <td>0.039539</td>\n",
       "      <td>-0.283077</td>\n",
       "      <td>0.160841</td>\n",
       "      <td>0.072002</td>\n",
       "      <td>0.067618</td>\n",
       "      <td>-0.058322</td>\n",
       "    </tr>\n",
       "    <tr>\n",
       "      <th>Moisture</th>\n",
       "      <td>NaN</td>\n",
       "      <td>NaN</td>\n",
       "      <td>NaN</td>\n",
       "      <td>NaN</td>\n",
       "      <td>NaN</td>\n",
       "      <td>NaN</td>\n",
       "      <td>NaN</td>\n",
       "      <td>0.057843</td>\n",
       "      <td>0.024094</td>\n",
       "      <td>0.115769</td>\n",
       "      <td>0.098569</td>\n",
       "      <td>-0.034131</td>\n",
       "      <td>0.014873</td>\n",
       "      <td>-0.005717</td>\n",
       "    </tr>\n",
       "    <tr>\n",
       "      <th>Category.One.Defects</th>\n",
       "      <td>NaN</td>\n",
       "      <td>NaN</td>\n",
       "      <td>NaN</td>\n",
       "      <td>NaN</td>\n",
       "      <td>NaN</td>\n",
       "      <td>NaN</td>\n",
       "      <td>NaN</td>\n",
       "      <td>NaN</td>\n",
       "      <td>-0.000800</td>\n",
       "      <td>0.384845</td>\n",
       "      <td>-0.064351</td>\n",
       "      <td>0.032137</td>\n",
       "      <td>-0.046874</td>\n",
       "      <td>0.023947</td>\n",
       "    </tr>\n",
       "    <tr>\n",
       "      <th>Quakers</th>\n",
       "      <td>NaN</td>\n",
       "      <td>NaN</td>\n",
       "      <td>NaN</td>\n",
       "      <td>NaN</td>\n",
       "      <td>NaN</td>\n",
       "      <td>NaN</td>\n",
       "      <td>NaN</td>\n",
       "      <td>NaN</td>\n",
       "      <td>NaN</td>\n",
       "      <td>0.019129</td>\n",
       "      <td>0.006748</td>\n",
       "      <td>-0.042487</td>\n",
       "      <td>-0.061531</td>\n",
       "      <td>0.045844</td>\n",
       "    </tr>\n",
       "    <tr>\n",
       "      <th>Category.Two.Defects</th>\n",
       "      <td>NaN</td>\n",
       "      <td>NaN</td>\n",
       "      <td>NaN</td>\n",
       "      <td>NaN</td>\n",
       "      <td>NaN</td>\n",
       "      <td>NaN</td>\n",
       "      <td>NaN</td>\n",
       "      <td>NaN</td>\n",
       "      <td>NaN</td>\n",
       "      <td>NaN</td>\n",
       "      <td>0.035721</td>\n",
       "      <td>-0.010706</td>\n",
       "      <td>0.054271</td>\n",
       "      <td>0.007068</td>\n",
       "    </tr>\n",
       "    <tr>\n",
       "      <th>altitude_mean_meters</th>\n",
       "      <td>NaN</td>\n",
       "      <td>NaN</td>\n",
       "      <td>NaN</td>\n",
       "      <td>NaN</td>\n",
       "      <td>NaN</td>\n",
       "      <td>NaN</td>\n",
       "      <td>NaN</td>\n",
       "      <td>NaN</td>\n",
       "      <td>NaN</td>\n",
       "      <td>NaN</td>\n",
       "      <td>NaN</td>\n",
       "      <td>0.021375</td>\n",
       "      <td>0.031270</td>\n",
       "      <td>-0.023210</td>\n",
       "    </tr>\n",
       "    <tr>\n",
       "      <th>x0_Blue-Green</th>\n",
       "      <td>NaN</td>\n",
       "      <td>NaN</td>\n",
       "      <td>NaN</td>\n",
       "      <td>NaN</td>\n",
       "      <td>NaN</td>\n",
       "      <td>NaN</td>\n",
       "      <td>NaN</td>\n",
       "      <td>NaN</td>\n",
       "      <td>NaN</td>\n",
       "      <td>NaN</td>\n",
       "      <td>NaN</td>\n",
       "      <td>NaN</td>\n",
       "      <td>-0.092334</td>\n",
       "      <td>-0.580847</td>\n",
       "    </tr>\n",
       "    <tr>\n",
       "      <th>x0_Bluish-Green</th>\n",
       "      <td>NaN</td>\n",
       "      <td>NaN</td>\n",
       "      <td>NaN</td>\n",
       "      <td>NaN</td>\n",
       "      <td>NaN</td>\n",
       "      <td>NaN</td>\n",
       "      <td>NaN</td>\n",
       "      <td>NaN</td>\n",
       "      <td>NaN</td>\n",
       "      <td>NaN</td>\n",
       "      <td>NaN</td>\n",
       "      <td>NaN</td>\n",
       "      <td>NaN</td>\n",
       "      <td>-0.645205</td>\n",
       "    </tr>\n",
       "    <tr>\n",
       "      <th>x0_Green</th>\n",
       "      <td>NaN</td>\n",
       "      <td>NaN</td>\n",
       "      <td>NaN</td>\n",
       "      <td>NaN</td>\n",
       "      <td>NaN</td>\n",
       "      <td>NaN</td>\n",
       "      <td>NaN</td>\n",
       "      <td>NaN</td>\n",
       "      <td>NaN</td>\n",
       "      <td>NaN</td>\n",
       "      <td>NaN</td>\n",
       "      <td>NaN</td>\n",
       "      <td>NaN</td>\n",
       "      <td>NaN</td>\n",
       "    </tr>\n",
       "  </tbody>\n",
       "</table>\n",
       "</div>"
      ],
      "text/plain": [
       "                      Harvest.Year     Aroma    Flavor  Aftertaste   Acidity  \\\n",
       "Harvest.Year                   NaN  0.005501  0.085442    0.073448  0.064124   \n",
       "Aroma                          NaN       NaN  0.760935    0.700759  0.646419   \n",
       "Flavor                         NaN       NaN       NaN    0.839464  0.766443   \n",
       "Aftertaste                     NaN       NaN       NaN         NaN  0.702052   \n",
       "Acidity                        NaN       NaN       NaN         NaN       NaN   \n",
       "Total.Cup.Points               NaN       NaN       NaN         NaN       NaN   \n",
       "Moisture                       NaN       NaN       NaN         NaN       NaN   \n",
       "Category.One.Defects           NaN       NaN       NaN         NaN       NaN   \n",
       "Quakers                        NaN       NaN       NaN         NaN       NaN   \n",
       "Category.Two.Defects           NaN       NaN       NaN         NaN       NaN   \n",
       "altitude_mean_meters           NaN       NaN       NaN         NaN       NaN   \n",
       "x0_Blue-Green                  NaN       NaN       NaN         NaN       NaN   \n",
       "x0_Bluish-Green                NaN       NaN       NaN         NaN       NaN   \n",
       "x0_Green                       NaN       NaN       NaN         NaN       NaN   \n",
       "\n",
       "                      Total.Cup.Points  Moisture  Category.One.Defects  \\\n",
       "Harvest.Year                  0.110401 -0.193119             -0.074027   \n",
       "Aroma                         0.696964 -0.035403             -0.139363   \n",
       "Flavor                        0.826538 -0.091608             -0.076324   \n",
       "Aftertaste                    0.830220 -0.148714             -0.113282   \n",
       "Acidity                       0.720687 -0.084699             -0.081813   \n",
       "Total.Cup.Points                   NaN -0.115950             -0.156604   \n",
       "Moisture                           NaN       NaN              0.057843   \n",
       "Category.One.Defects               NaN       NaN                   NaN   \n",
       "Quakers                            NaN       NaN                   NaN   \n",
       "Category.Two.Defects               NaN       NaN                   NaN   \n",
       "altitude_mean_meters               NaN       NaN                   NaN   \n",
       "x0_Blue-Green                      NaN       NaN                   NaN   \n",
       "x0_Bluish-Green                    NaN       NaN                   NaN   \n",
       "x0_Green                           NaN       NaN                   NaN   \n",
       "\n",
       "                       Quakers  Category.Two.Defects  altitude_mean_meters  \\\n",
       "Harvest.Year          0.278723             -0.139578             -0.049665   \n",
       "Aroma                 0.004310             -0.218433              0.200598   \n",
       "Flavor                0.019537             -0.234674              0.155486   \n",
       "Aftertaste            0.020347             -0.258652              0.135939   \n",
       "Acidity               0.034899             -0.169379              0.242793   \n",
       "Total.Cup.Points      0.039539             -0.283077              0.160841   \n",
       "Moisture              0.024094              0.115769              0.098569   \n",
       "Category.One.Defects -0.000800              0.384845             -0.064351   \n",
       "Quakers                    NaN              0.019129              0.006748   \n",
       "Category.Two.Defects       NaN                   NaN              0.035721   \n",
       "altitude_mean_meters       NaN                   NaN                   NaN   \n",
       "x0_Blue-Green              NaN                   NaN                   NaN   \n",
       "x0_Bluish-Green            NaN                   NaN                   NaN   \n",
       "x0_Green                   NaN                   NaN                   NaN   \n",
       "\n",
       "                      x0_Blue-Green  x0_Bluish-Green  x0_Green  \n",
       "Harvest.Year              -0.037274        -0.055615  0.098244  \n",
       "Aroma                      0.058348         0.043505 -0.047671  \n",
       "Flavor                     0.059212         0.068041 -0.055918  \n",
       "Aftertaste                 0.095026         0.049234 -0.075982  \n",
       "Acidity                    0.077716         0.041896 -0.060800  \n",
       "Total.Cup.Points           0.072002         0.067618 -0.058322  \n",
       "Moisture                  -0.034131         0.014873 -0.005717  \n",
       "Category.One.Defects       0.032137        -0.046874  0.023947  \n",
       "Quakers                   -0.042487        -0.061531  0.045844  \n",
       "Category.Two.Defects      -0.010706         0.054271  0.007068  \n",
       "altitude_mean_meters       0.021375         0.031270 -0.023210  \n",
       "x0_Blue-Green                   NaN        -0.092334 -0.580847  \n",
       "x0_Bluish-Green                 NaN              NaN -0.645205  \n",
       "x0_Green                        NaN              NaN       NaN  "
      ]
     },
     "execution_count": 10,
     "metadata": {},
     "output_type": "execute_result"
    }
   ],
   "source": [
    "corrs = df.corr()\n",
    "upper_tri = corrs.where(np.triu(np.ones(corrs.shape), k=1).astype(np.bool))\n",
    "upper_tri"
   ]
  },
  {
   "cell_type": "code",
   "execution_count": 11,
   "metadata": {},
   "outputs": [
    {
     "data": {
      "image/png": "[encoded data removed]",
      "text/plain": [
       "<Figure size 576x576 with 2 Axes>"
      ]
     },
     "metadata": {
      "needs_background": "light"
     },
     "output_type": "display_data"
    }
   ],
   "source": [
    "plt.figure(figsize=(8, 8))\n",
    "sns.heatmap(upper_tri, cmap=\"RdYlBu_r\", square=True, annot=True);"
   ]
  },
  {
   "cell_type": "code",
   "execution_count": 12,
   "metadata": {},
   "outputs": [
    {
     "data": {
      "text/plain": [
       "['Aftertaste', 'Total.Cup.Points']"
      ]
     },
     "execution_count": 12,
     "metadata": {},
     "output_type": "execute_result"
    }
   ],
   "source": [
    "cols_to_drop = [column for column in upper_tri.columns if any(upper_tri[column] > 0.8)]\n",
    "cols_to_drop"
   ]
  },
  {
   "cell_type": "code",
   "execution_count": 13,
   "metadata": {},
   "outputs": [
    {
     "data": {
      "text/html": [
       "<div>\n",
       "<style scoped>\n",
       "    .dataframe tbody tr th:only-of-type {\n",
       "        vertical-align: middle;\n",
       "    }\n",
       "\n",
       "    .dataframe tbody tr th {\n",
       "        vertical-align: top;\n",
       "    }\n",
       "\n",
       "    .dataframe thead th {\n",
       "        text-align: right;\n",
       "    }\n",
       "</style>\n",
       "<table border=\"1\" class=\"dataframe\">\n",
       "  <thead>\n",
       "    <tr style=\"text-align: right;\">\n",
       "      <th></th>\n",
       "      <th>Harvest.Year</th>\n",
       "      <th>Aroma</th>\n",
       "      <th>Flavor</th>\n",
       "      <th>Acidity</th>\n",
       "      <th>Moisture</th>\n",
       "      <th>Category.One.Defects</th>\n",
       "      <th>Quakers</th>\n",
       "      <th>Category.Two.Defects</th>\n",
       "      <th>altitude_mean_meters</th>\n",
       "      <th>x0_Blue-Green</th>\n",
       "      <th>x0_Bluish-Green</th>\n",
       "      <th>x0_Green</th>\n",
       "    </tr>\n",
       "  </thead>\n",
       "  <tbody>\n",
       "    <tr>\n",
       "      <th>1</th>\n",
       "      <td>5</td>\n",
       "      <td>8.67</td>\n",
       "      <td>8.83</td>\n",
       "      <td>8.75</td>\n",
       "      <td>0.12</td>\n",
       "      <td>0</td>\n",
       "      <td>0.0</td>\n",
       "      <td>0</td>\n",
       "      <td>2075.0</td>\n",
       "      <td>0.0</td>\n",
       "      <td>0.0</td>\n",
       "      <td>1.0</td>\n",
       "    </tr>\n",
       "    <tr>\n",
       "      <th>2</th>\n",
       "      <td>5</td>\n",
       "      <td>8.75</td>\n",
       "      <td>8.67</td>\n",
       "      <td>8.58</td>\n",
       "      <td>0.12</td>\n",
       "      <td>0</td>\n",
       "      <td>0.0</td>\n",
       "      <td>1</td>\n",
       "      <td>2075.0</td>\n",
       "      <td>0.0</td>\n",
       "      <td>0.0</td>\n",
       "      <td>1.0</td>\n",
       "    </tr>\n",
       "    <tr>\n",
       "      <th>4</th>\n",
       "      <td>5</td>\n",
       "      <td>8.17</td>\n",
       "      <td>8.58</td>\n",
       "      <td>8.42</td>\n",
       "      <td>0.11</td>\n",
       "      <td>0</td>\n",
       "      <td>0.0</td>\n",
       "      <td>2</td>\n",
       "      <td>2000.0</td>\n",
       "      <td>0.0</td>\n",
       "      <td>0.0</td>\n",
       "      <td>1.0</td>\n",
       "    </tr>\n",
       "    <tr>\n",
       "      <th>5</th>\n",
       "      <td>5</td>\n",
       "      <td>8.25</td>\n",
       "      <td>8.50</td>\n",
       "      <td>8.50</td>\n",
       "      <td>0.12</td>\n",
       "      <td>0</td>\n",
       "      <td>0.0</td>\n",
       "      <td>2</td>\n",
       "      <td>2075.0</td>\n",
       "      <td>0.0</td>\n",
       "      <td>0.0</td>\n",
       "      <td>1.0</td>\n",
       "    </tr>\n",
       "    <tr>\n",
       "      <th>10</th>\n",
       "      <td>5</td>\n",
       "      <td>8.08</td>\n",
       "      <td>8.58</td>\n",
       "      <td>8.50</td>\n",
       "      <td>0.10</td>\n",
       "      <td>0</td>\n",
       "      <td>0.0</td>\n",
       "      <td>4</td>\n",
       "      <td>1822.5</td>\n",
       "      <td>0.0</td>\n",
       "      <td>0.0</td>\n",
       "      <td>1.0</td>\n",
       "    </tr>\n",
       "  </tbody>\n",
       "</table>\n",
       "</div>"
      ],
      "text/plain": [
       "    Harvest.Year  Aroma  Flavor  Acidity  Moisture  Category.One.Defects  \\\n",
       "1              5   8.67    8.83     8.75      0.12                     0   \n",
       "2              5   8.75    8.67     8.58      0.12                     0   \n",
       "4              5   8.17    8.58     8.42      0.11                     0   \n",
       "5              5   8.25    8.50     8.50      0.12                     0   \n",
       "10             5   8.08    8.58     8.50      0.10                     0   \n",
       "\n",
       "    Quakers  Category.Two.Defects  altitude_mean_meters  x0_Blue-Green  \\\n",
       "1       0.0                     0                2075.0            0.0   \n",
       "2       0.0                     1                2075.0            0.0   \n",
       "4       0.0                     2                2000.0            0.0   \n",
       "5       0.0                     2                2075.0            0.0   \n",
       "10      0.0                     4                1822.5            0.0   \n",
       "\n",
       "    x0_Bluish-Green  x0_Green  \n",
       "1               0.0       1.0  \n",
       "2               0.0       1.0  \n",
       "4               0.0       1.0  \n",
       "5               0.0       1.0  \n",
       "10              0.0       1.0  "
      ]
     },
     "execution_count": 13,
     "metadata": {},
     "output_type": "execute_result"
    }
   ],
   "source": [
    "cutted_data = df.drop(columns=cols_to_drop)\n",
    "cutted_data.head()"
   ]
  },
  {
   "attachments": {},
   "cell_type": "markdown",
   "metadata": {},
   "source": [
    "## Обучение модели\n",
    "Подготовка данных"
   ]
  },
  {
   "cell_type": "code",
   "execution_count": 14,
   "metadata": {},
   "outputs": [],
   "source": [
    "X, y = cutted_data.fillna(0), df['Total.Cup.Points']\n",
    "X_train, X_test, y_train, y_test = train_test_split(X, y, random_state=42, test_size=0.25, stratify=round(y, -1))"
   ]
  },
  {
   "attachments": {},
   "cell_type": "markdown",
   "metadata": {},
   "source": [
    "Обычная линейная регрессия"
   ]
  },
  {
   "cell_type": "code",
   "execution_count": 15,
   "metadata": {},
   "outputs": [
    {
     "name": "stdout",
     "output_type": "stream",
     "text": [
      "Cross validation for linear regression (MAE):  [0.86552845 0.70601776 0.81971188 0.6954344 ]\n"
     ]
    }
   ],
   "source": [
    "lr = LinearRegression()\n",
    "print('Cross validation for linear regression (MAE): ', - cross_val_score(lr, X_train, y_train, cv=4, scoring='neg_mean_absolute_error'))"
   ]
  },
  {
   "attachments": {},
   "cell_type": "markdown",
   "metadata": {},
   "source": [
    "Масштабирование:"
   ]
  },
  {
   "cell_type": "code",
   "execution_count": 16,
   "metadata": {},
   "outputs": [],
   "source": [
    "scaler = StandardScaler()\n",
    "X_train_scaled = pd.DataFrame(\n",
    "    scaler.fit_transform(X_train),\n",
    "    columns=X_train.columns\n",
    ")\n",
    "X_test_scaled = pd.DataFrame(\n",
    "    scaler.transform(X_test),\n",
    "    columns=X_test.columns\n",
    ")"
   ]
  },
  {
   "cell_type": "code",
   "execution_count": 17,
   "metadata": {},
   "outputs": [
    {
     "name": "stdout",
     "output_type": "stream",
     "text": [
      "Cross validation for linear regression after scaling (MAE):  [0.86552845 0.70601776 0.81971188 0.6954344 ]\n"
     ]
    }
   ],
   "source": [
    "lr = LinearRegression()\n",
    "print('Cross validation for linear regression after scaling (MAE): ', - cross_val_score(lr, X_train, y_train, cv=4, scoring='neg_mean_absolute_error'))"
   ]
  },
  {
   "cell_type": "code",
   "execution_count": 18,
   "metadata": {},
   "outputs": [],
   "source": [
    "def plotCoefficients(model, columns):\n",
    "    coefs = pd.DataFrame(model.coef_, columns)\n",
    "    coefs.columns = [\"coef\"]\n",
    "    coefs[\"abs\"] = coefs.coef.apply(np.abs)\n",
    "    coefs = coefs.sort_values(by=\"abs\", ascending=False).drop([\"abs\"], axis=1)\n",
    "\n",
    "    plt.figure(figsize=(15, 7))\n",
    "    coefs.coef.plot(kind='bar')\n",
    "    plt.grid(True, axis='y')\n",
    "    plt.hlines(y=0, xmin=0, xmax=len(coefs), linestyles='dashed')"
   ]
  },
  {
   "attachments": {},
   "cell_type": "markdown",
   "metadata": {},
   "source": [
    "Работа с мультиколлинеарностью: видно уменьшение ошибки при использовании ridge"
   ]
  },
  {
   "cell_type": "code",
   "execution_count": 19,
   "metadata": {},
   "outputs": [
    {
     "name": "stdout",
     "output_type": "stream",
     "text": [
      "Ridge (MAE):  [0.85046429 0.69308178 0.82118685 0.6902    ]\n"
     ]
    }
   ],
   "source": [
    "ridge = Ridge(alpha=1)\n",
    "print('Ridge (MAE): ', - cross_val_score(ridge, X_train, y_train, cv=4, scoring='neg_mean_absolute_error'))"
   ]
  },
  {
   "cell_type": "code",
   "execution_count": 20,
   "metadata": {},
   "outputs": [
    {
     "data": {
      "image/png": "[encoded data removed]",
      "text/plain": [
       "<Figure size 1080x504 with 1 Axes>"
      ]
     },
     "metadata": {
      "needs_background": "light"
     },
     "output_type": "display_data"
    }
   ],
   "source": [
    "ridge.fit(X_train, y_train)\n",
    "y_preds = ridge.predict(X_test)\n",
    "plotCoefficients(ridge, X_train.columns)"
   ]
  },
  {
   "cell_type": "code",
   "execution_count": 21,
   "metadata": {},
   "outputs": [
    {
     "name": "stdout",
     "output_type": "stream",
     "text": [
      "Lasso (MAE):  [1.6517311  1.50777043 1.81184682 1.73628872]\n"
     ]
    }
   ],
   "source": [
    "lasso = Lasso(alpha=1)\n",
    "print('Lasso (MAE): ', - cross_val_score(lasso, X_train, y_train, cv=4, scoring='neg_mean_absolute_error'))"
   ]
  },
  {
   "attachments": {},
   "cell_type": "markdown",
   "metadata": {},
   "source": [
    "## Подбор гиперпараметров"
   ]
  },
  {
   "cell_type": "code",
   "execution_count": 22,
   "metadata": {},
   "outputs": [],
   "source": [
    "X, y = cutted_data.fillna(0), df['Total.Cup.Points']\n",
    "X_train, X_test, y_train, y_test = train_test_split(X, y, random_state=42, test_size=0.25)\n",
    "#X_train, X_test, y_train, y_test = train_test_split(X, y, random_state=42, test_size=0.25, stratify=round(y, -1))"
   ]
  },
  {
   "cell_type": "code",
   "execution_count": 23,
   "metadata": {},
   "outputs": [],
   "source": [
    "pipeline = Pipeline(\n",
    "    [\n",
    "        (\"scaler\", StandardScaler()),\n",
    "        (\"clf\", Ridge()),\n",
    "    ]\n",
    ")"
   ]
  },
  {
   "cell_type": "code",
   "execution_count": 30,
   "metadata": {},
   "outputs": [],
   "source": [
    "parameters = {\n",
    "    'scaler__with_mean': [True, False],\n",
    "    'clf__alpha': np.linspace(90, 110, 100),\n",
    "    'clf__random_state': [42]\n",
    "}\n",
    "\n",
    "grid_search = GridSearchCV(\n",
    "    estimator=pipeline,\n",
    "    param_grid=parameters,\n",
    "    n_jobs=2,\n",
    "    verbose=1,\n",
    ")"
   ]
  },
  {
   "cell_type": "code",
   "execution_count": 31,
   "metadata": {},
   "outputs": [
    {
     "name": "stdout",
     "output_type": "stream",
     "text": [
      "Fitting 5 folds for each of 200 candidates, totalling 1000 fits\n",
      "CPU times: user 415 ms, sys: 3.76 ms, total: 419 ms\n",
      "Wall time: 2.82 s\n"
     ]
    },
    {
     "data": {
      "text/html": [
       "<style>#sk-container-id-2 {color: black;background-color: white;}#sk-container-id-2 pre{padding: 0;}#sk-container-id-2 div.sk-toggleable {background-color: white;}#sk-container-id-2 label.sk-toggleable__label {cursor: pointer;display: block;width: 100%;margin-bottom: 0;padding: 0.3em;box-sizing: border-box;text-align: center;}#sk-container-id-2 label.sk-toggleable__label-arrow:before {content: \"▸\";float: left;margin-right: 0.25em;color: #696969;}#sk-container-id-2 label.sk-toggleable__label-arrow:hover:before {color: black;}#sk-container-id-2 div.sk-estimator:hover label.sk-toggleable__label-arrow:before {color: black;}#sk-container-id-2 div.sk-toggleable__content {max-height: 0;max-width: 0;overflow: hidden;text-align: left;background-color: #f0f8ff;}#sk-container-id-2 div.sk-toggleable__content pre {margin: 0.2em;color: black;border-radius: 0.25em;background-color: #f0f8ff;}#sk-container-id-2 input.sk-toggleable__control:checked~div.sk-toggleable__content {max-height: 200px;max-width: 100%;overflow: auto;}#sk-container-id-2 input.sk-toggleable__control:checked~label.sk-toggleable__label-arrow:before {content: \"▾\";}#sk-container-id-2 div.sk-estimator input.sk-toggleable__control:checked~label.sk-toggleable__label {background-color: #d4ebff;}#sk-container-id-2 div.sk-label input.sk-toggleable__control:checked~label.sk-toggleable__label {background-color: #d4ebff;}#sk-container-id-2 input.sk-hidden--visually {border: 0;clip: rect(1px 1px 1px 1px);clip: rect(1px, 1px, 1px, 1px);height: 1px;margin: -1px;overflow: hidden;padding: 0;position: absolute;width: 1px;}#sk-container-id-2 div.sk-estimator {font-family: monospace;background-color: #f0f8ff;border: 1px dotted black;border-radius: 0.25em;box-sizing: border-box;margin-bottom: 0.5em;}#sk-container-id-2 div.sk-estimator:hover {background-color: #d4ebff;}#sk-container-id-2 div.sk-parallel-item::after {content: \"\";width: 100%;border-bottom: 1px solid gray;flex-grow: 1;}#sk-container-id-2 div.sk-label:hover label.sk-toggleable__label {background-color: #d4ebff;}#sk-container-id-2 div.sk-serial::before {content: \"\";position: absolute;border-left: 1px solid gray;box-sizing: border-box;top: 0;bottom: 0;left: 50%;z-index: 0;}#sk-container-id-2 div.sk-serial {display: flex;flex-direction: column;align-items: center;background-color: white;padding-right: 0.2em;padding-left: 0.2em;position: relative;}#sk-container-id-2 div.sk-item {position: relative;z-index: 1;}#sk-container-id-2 div.sk-parallel {display: flex;align-items: stretch;justify-content: center;background-color: white;position: relative;}#sk-container-id-2 div.sk-item::before, #sk-container-id-2 div.sk-parallel-item::before {content: \"\";position: absolute;border-left: 1px solid gray;box-sizing: border-box;top: 0;bottom: 0;left: 50%;z-index: -1;}#sk-container-id-2 div.sk-parallel-item {display: flex;flex-direction: column;z-index: 1;position: relative;background-color: white;}#sk-container-id-2 div.sk-parallel-item:first-child::after {align-self: flex-end;width: 50%;}#sk-container-id-2 div.sk-parallel-item:last-child::after {align-self: flex-start;width: 50%;}#sk-container-id-2 div.sk-parallel-item:only-child::after {width: 0;}#sk-container-id-2 div.sk-dashed-wrapped {border: 1px dashed gray;margin: 0 0.4em 0.5em 0.4em;box-sizing: border-box;padding-bottom: 0.4em;background-color: white;}#sk-container-id-2 div.sk-label label {font-family: monospace;font-weight: bold;display: inline-block;line-height: 1.2em;}#sk-container-id-2 div.sk-label-container {text-align: center;}#sk-container-id-2 div.sk-container {/* jupyter's `normalize.less` sets `[hidden] { display: none; }` but bootstrap.min.css set `[hidden] { display: none !important; }` so we also need the `!important` here to be able to override the default hidden behavior on the sphinx rendered scikit-learn.org. See: https://github.com/scikit-learn/scikit-learn/issues/21755 */display: inline-block !important;position: relative;}#sk-container-id-2 div.sk-text-repr-fallback {display: none;}</style><div id=\"sk-container-id-2\" class=\"sk-top-container\"><div class=\"sk-text-repr-fallback\"><pre>GridSearchCV(estimator=Pipeline(steps=[(&#x27;scaler&#x27;, StandardScaler()),\n",
       "                                       (&#x27;clf&#x27;, Ridge())]),\n",
       "             n_jobs=2,\n",
       "             param_grid={&#x27;clf__alpha&#x27;: array([ 90.        ,  90.2020202 ,  90.4040404 ,  90.60606061,\n",
       "        90.80808081,  91.01010101,  91.21212121,  91.41414141,\n",
       "        91.61616162,  91.81818182,  92.02020202,  92.22222222,\n",
       "        92.42424242,  92.62626263,  92.82828283,  93.03030303,\n",
       "        93.23232323,  93.43434343,  93.63636364,  93.838...\n",
       "       105.35353535, 105.55555556, 105.75757576, 105.95959596,\n",
       "       106.16161616, 106.36363636, 106.56565657, 106.76767677,\n",
       "       106.96969697, 107.17171717, 107.37373737, 107.57575758,\n",
       "       107.77777778, 107.97979798, 108.18181818, 108.38383838,\n",
       "       108.58585859, 108.78787879, 108.98989899, 109.19191919,\n",
       "       109.39393939, 109.5959596 , 109.7979798 , 110.        ]),\n",
       "                         &#x27;clf__random_state&#x27;: [42],\n",
       "                         &#x27;scaler__with_mean&#x27;: [True, False]},\n",
       "             verbose=1)</pre><b>In a Jupyter environment, please rerun this cell to show the HTML representation or trust the notebook. <br />On GitHub, the HTML representation is unable to render, please try loading this page with nbviewer.org.</b></div><div class=\"sk-container\" hidden><div class=\"sk-item sk-dashed-wrapped\"><div class=\"sk-label-container\"><div class=\"sk-label sk-toggleable\"><input class=\"sk-toggleable__control sk-hidden--visually\" id=\"sk-estimator-id-5\" type=\"checkbox\" ><label for=\"sk-estimator-id-5\" class=\"sk-toggleable__label sk-toggleable__label-arrow\">GridSearchCV</label><div class=\"sk-toggleable__content\"><pre>GridSearchCV(estimator=Pipeline(steps=[(&#x27;scaler&#x27;, StandardScaler()),\n",
       "                                       (&#x27;clf&#x27;, Ridge())]),\n",
       "             n_jobs=2,\n",
       "             param_grid={&#x27;clf__alpha&#x27;: array([ 90.        ,  90.2020202 ,  90.4040404 ,  90.60606061,\n",
       "        90.80808081,  91.01010101,  91.21212121,  91.41414141,\n",
       "        91.61616162,  91.81818182,  92.02020202,  92.22222222,\n",
       "        92.42424242,  92.62626263,  92.82828283,  93.03030303,\n",
       "        93.23232323,  93.43434343,  93.63636364,  93.838...\n",
       "       105.35353535, 105.55555556, 105.75757576, 105.95959596,\n",
       "       106.16161616, 106.36363636, 106.56565657, 106.76767677,\n",
       "       106.96969697, 107.17171717, 107.37373737, 107.57575758,\n",
       "       107.77777778, 107.97979798, 108.18181818, 108.38383838,\n",
       "       108.58585859, 108.78787879, 108.98989899, 109.19191919,\n",
       "       109.39393939, 109.5959596 , 109.7979798 , 110.        ]),\n",
       "                         &#x27;clf__random_state&#x27;: [42],\n",
       "                         &#x27;scaler__with_mean&#x27;: [True, False]},\n",
       "             verbose=1)</pre></div></div></div><div class=\"sk-parallel\"><div class=\"sk-parallel-item\"><div class=\"sk-item\"><div class=\"sk-label-container\"><div class=\"sk-label sk-toggleable\"><input class=\"sk-toggleable__control sk-hidden--visually\" id=\"sk-estimator-id-6\" type=\"checkbox\" ><label for=\"sk-estimator-id-6\" class=\"sk-toggleable__label sk-toggleable__label-arrow\">estimator: Pipeline</label><div class=\"sk-toggleable__content\"><pre>Pipeline(steps=[(&#x27;scaler&#x27;, StandardScaler()), (&#x27;clf&#x27;, Ridge())])</pre></div></div></div><div class=\"sk-serial\"><div class=\"sk-item\"><div class=\"sk-serial\"><div class=\"sk-item\"><div class=\"sk-estimator sk-toggleable\"><input class=\"sk-toggleable__control sk-hidden--visually\" id=\"sk-estimator-id-7\" type=\"checkbox\" ><label for=\"sk-estimator-id-7\" class=\"sk-toggleable__label sk-toggleable__label-arrow\">StandardScaler</label><div class=\"sk-toggleable__content\"><pre>StandardScaler()</pre></div></div></div><div class=\"sk-item\"><div class=\"sk-estimator sk-toggleable\"><input class=\"sk-toggleable__control sk-hidden--visually\" id=\"sk-estimator-id-8\" type=\"checkbox\" ><label for=\"sk-estimator-id-8\" class=\"sk-toggleable__label sk-toggleable__label-arrow\">Ridge</label><div class=\"sk-toggleable__content\"><pre>Ridge()</pre></div></div></div></div></div></div></div></div></div></div></div></div>"
      ],
      "text/plain": [
       "GridSearchCV(estimator=Pipeline(steps=[('scaler', StandardScaler()),\n",
       "                                       ('clf', Ridge())]),\n",
       "             n_jobs=2,\n",
       "             param_grid={'clf__alpha': array([ 90.        ,  90.2020202 ,  90.4040404 ,  90.60606061,\n",
       "        90.80808081,  91.01010101,  91.21212121,  91.41414141,\n",
       "        91.61616162,  91.81818182,  92.02020202,  92.22222222,\n",
       "        92.42424242,  92.62626263,  92.82828283,  93.03030303,\n",
       "        93.23232323,  93.43434343,  93.63636364,  93.838...\n",
       "       105.35353535, 105.55555556, 105.75757576, 105.95959596,\n",
       "       106.16161616, 106.36363636, 106.56565657, 106.76767677,\n",
       "       106.96969697, 107.17171717, 107.37373737, 107.57575758,\n",
       "       107.77777778, 107.97979798, 108.18181818, 108.38383838,\n",
       "       108.58585859, 108.78787879, 108.98989899, 109.19191919,\n",
       "       109.39393939, 109.5959596 , 109.7979798 , 110.        ]),\n",
       "                         'clf__random_state': [42],\n",
       "                         'scaler__with_mean': [True, False]},\n",
       "             verbose=1)"
      ]
     },
     "execution_count": 31,
     "metadata": {},
     "output_type": "execute_result"
    }
   ],
   "source": [
    "%%time\n",
    "\n",
    "grid_search.fit(X_train, y_train)"
   ]
  },
  {
   "cell_type": "code",
   "execution_count": 32,
   "metadata": {},
   "outputs": [
    {
     "name": "stdout",
     "output_type": "stream",
     "text": [
      "clf__alpha: 104.34343434343434\n",
      "clf__random_state: 42\n",
      "scaler__with_mean: False\n"
     ]
    }
   ],
   "source": [
    "best_parameters = grid_search.best_estimator_.get_params()\n",
    "for param_name in sorted(parameters.keys()):\n",
    "    print(f\"{param_name}: {best_parameters[param_name]}\")"
   ]
  },
  {
   "cell_type": "code",
   "execution_count": 33,
   "metadata": {},
   "outputs": [
    {
     "name": "stdout",
     "output_type": "stream",
     "text": [
      "Ridge (MAE):  0.736380867773048\n"
     ]
    }
   ],
   "source": [
    "y_pred_optimized = grid_search.best_estimator_.predict(X_test)\n",
    "\n",
    "print('Ridge (MAE): ', mean_absolute_error(y_test, y_pred_optimized))"
   ]
  },
  {
   "attachments": {},
   "cell_type": "markdown",
   "metadata": {},
   "source": [
    "## Обучение модели с подобранными значениями гиперпараметров и измерение качества на выбранной метрике"
   ]
  },
  {
   "cell_type": "code",
   "execution_count": 35,
   "metadata": {},
   "outputs": [
    {
     "name": "stdout",
     "output_type": "stream",
     "text": [
      "Ridge (MAE):  0.7363810908853466\n"
     ]
    }
   ],
   "source": [
    "scaler = StandardScaler()\n",
    "X_train_scaled = pd.DataFrame(\n",
    "    scaler.fit_transform(X_train),\n",
    "    columns=X_train.columns\n",
    ")\n",
    "X_test_scaled = pd.DataFrame(\n",
    "    scaler.transform(X_test),\n",
    "    columns=X_test.columns\n",
    ")\n",
    "ridge = Ridge(alpha = 104.34, random_state=42)\n",
    "ridge.fit(X_train_scaled, y_train)\n",
    "y_pred = ridge.predict(X_test_scaled)\n",
    "\n",
    "print('Ridge (MAE): ', mean_absolute_error(y_test, y_pred))"
   ]
  },
  {
   "attachments": {},
   "cell_type": "markdown",
   "metadata": {},
   "source": [
    "## Визуализация и интерпретация\n",
    "Коэффициенты для итоговой модели:"
   ]
  },
  {
   "cell_type": "code",
   "execution_count": 36,
   "metadata": {},
   "outputs": [
    {
     "data": {
      "image/png": "[encoded data removed]",
      "text/plain": [
       "<Figure size 1080x504 with 1 Axes>"
      ]
     },
     "metadata": {
      "needs_background": "light"
     },
     "output_type": "display_data"
    }
   ],
   "source": [
    "plotCoefficients(ridge, X_train.columns)"
   ]
  },
  {
   "attachments": {},
   "cell_type": "markdown",
   "metadata": {},
   "source": [
    "Визуализация результатов"
   ]
  },
  {
   "cell_type": "code",
   "execution_count": 52,
   "metadata": {},
   "outputs": [
    {
     "data": {
      "image/png": "[encoded data removed]",
      "text/plain": [
       "<Figure size 360x360 with 1 Axes>"
      ]
     },
     "metadata": {
      "needs_background": "light"
     },
     "output_type": "display_data"
    }
   ],
   "source": [
    "results = pd.DataFrame({'True': y_test, 'Prediction': y_pred})\n",
    "sns.lmplot(x='True', y='Prediction', data=results, fit_reg=False)\n",
    "d_line= np.arange(results.min().min(), results.max().max())\n",
    "  \n",
    "plt.plot(d_line, d_line, color='red', linestyle='--')\n",
    "#plt.title = title\n",
    "plt.grid()\n",
    "plt.show()"
   ]
  },
  {
   "attachments": {},
   "cell_type": "markdown",
   "metadata": {},
   "source": [
    "**Выводы:**\n",
    "\n",
    "1. Наибольшее влияние на оценку качества кофе, как и можно ожидать, оказывают признаки 'Flavor', 'Accidity' и 'Aroma'.\n",
    "2. Признаки 'Category.one.defects', 'Category.two.defects' и 'Moisture' вышли со знаком минус, что тоже логично.\n",
    "3. Было бы прикольно, если бы обнарудилось неожиданно сильное влияние какого-нибудь признака типа высоты сбора урожая, но нет так нет.\n",
    "4. Данные довольно разбросанные, и, думаю, линейную модель было бы лучше не сделать."
   ]
  }
 ],
 "metadata": {
  "kernelspec": {
   "display_name": "Python 3",
   "language": "python",
   "name": "python3"
  },
  "language_info": {
   "codemirror_mode": {
    "name": "ipython",
    "version": 3
   },
   "file_extension": ".py",
   "mimetype": "text/x-python",
   "name": "python",
   "nbconvert_exporter": "python",
   "pygments_lexer": "ipython3",
   "version": "3.10.6"
  },
  "orig_nbformat": 4,
  "vscode": {
   "interpreter": {
    "hash": "916dbcbb3f70747c44a77c7bcd40155683ae19c65e1c03b4aa3499c5328201f1"
   }
  }
 },
 "nbformat": 4,
 "nbformat_minor": 2
}
